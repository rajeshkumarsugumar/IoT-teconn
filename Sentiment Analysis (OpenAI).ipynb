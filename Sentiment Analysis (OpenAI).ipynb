{
 "cells": [
  {
   "cell_type": "code",
   "execution_count": 4,
   "metadata": {},
   "outputs": [
    {
     "name": "stdout",
     "output_type": "stream",
     "text": [
      "RT @mmaudet: Flight to the #MWC2018. Tomorrow we'll launch officially the GA of @AwesomePaaS. @linto_ai will be also attend to the show. ☺️…\n",
      "Sentiment(polarity=0.0, subjectivity=0.0)\n",
      "Elon Musk blasts off from OpenAI to focus on cars, how to make smart code fair, and more #zenia… https://t.co/Dw3SrfJ88y\n",
      "Sentiment(polarity=0.47142857142857136, subjectivity=0.6809523809523809)\n",
      "RT @LexSokolin: 🌌🚀 #singularity #futurism https://t.co/IVpNV4RBVQ\n",
      "\n",
      "Elon Musk’s Departure From OpenAI’s Board Might Mean Big Things for Tesla\n",
      "Sentiment(polarity=-0.15625, subjectivity=0.39375)\n",
      "RT @LaStampa: Elon Musk lascia OpenAI  https://t.co/Aa3mGZSfT4 https://t.co/vcs9Ku255m\n",
      "Sentiment(polarity=0.0, subjectivity=0.0)\n",
      "RT @CNASdc: New report: \"The Malicious Use of Artificial Intelligence: Forecasting, Prevention, and Mitigation,\" via researchers at @CNASdc…\n",
      "Sentiment(polarity=-0.2318181818181818, subjectivity=0.7272727272727273)\n",
      "RT @CNASdc: New report: \"The Malicious Use of Artificial Intelligence: Forecasting, Prevention, and Mitigation,\" via researchers at @CNASdc…\n",
      "Sentiment(polarity=-0.2318181818181818, subjectivity=0.7272727272727273)\n",
      "RT @CNASdc: New report: \"The Malicious Use of Artificial Intelligence: Forecasting, Prevention, and Mitigation,\" via researchers at @CNASdc…\n",
      "Sentiment(polarity=-0.2318181818181818, subjectivity=0.7272727272727273)\n",
      "New report: \"The Malicious Use of Artificial Intelligence: Forecasting, Prevention, and Mitigation,\" via researcher… https://t.co/5hpHp9wuq4\n",
      "Sentiment(polarity=-0.2318181818181818, subjectivity=0.7272727272727273)\n",
      "RT @Ronald_vanLoon: A Tour of #MachineLearning #Algorithms \n",
      "by @TeachTheMachine @DataScienceCtrl |\n",
      "\n",
      "https://t.co/rfzytELXxJ\n",
      "\n",
      "#Analytics #Bi…\n",
      "Sentiment(polarity=0.0, subjectivity=0.0)\n",
      "RT @Ethearnal_com: #daico #ico #ethereum #blockchain #freelancing #ert #ethearnal #openai #decentralized https://t.co/mNnNWAQrWw\n",
      "Sentiment(polarity=0.0, subjectivity=0.0)\n",
      "Elon Musk blasts off from OpenAI to focus on cars, how to make smart code fair, and more - The Register https://t.co/2ZcU2AOcER\n",
      "Sentiment(polarity=0.47142857142857136, subjectivity=0.6809523809523809)\n",
      "RT @davilagrau: Interesting: The Malicious Use of Artificial Intelligence: Forecasting, Prevention, and Mitigation https://t.co/kUrlb98D8s…\n",
      "Sentiment(polarity=-0.04999999999999999, subjectivity=0.75)\n",
      "OpenAI: Creating J.A.R.V.I.S\n",
      "\n",
      "SpaceX: Launching Veronica into a plane for eggs\n",
      "Sentiment(polarity=0.0, subjectivity=0.0)\n",
      "RT @Ronald_vanLoon: A Tour of #MachineLearning #Algorithms \n",
      "by @TeachTheMachine @DataScienceCtrl |\n",
      "\n",
      "https://t.co/rfzytELXxJ\n",
      "\n",
      "#Analytics #Bi…\n",
      "Sentiment(polarity=0.0, subjectivity=0.0)\n",
      "How would you like to take part in the AI revolution? Open AI Gym is a place where you can try it out.… https://t.co/xFiG782d6B\n",
      "Sentiment(polarity=0.0, subjectivity=0.5)\n"
     ]
    }
   ],
   "source": [
    "import tweepy\n",
    "from textblob import TextBlob\n",
    "\n",
    "consumer_key = '63ysFRJXlTy7cerSrSelBWnKQ'\n",
    "consumer_secret = 'd8ay0wkMVmfi5drBpvO6ovRxiFD9z0qbW6rpZtTKGiZOWCaB6r'\n",
    "\n",
    "access_token = '265445391-i4Txtov44XntXnTX5wW23XArUTrLwahstdejewlZ'\n",
    "access_secret = 'Axd8QT0kAsL0iUQkf48EoDkbKBGhp3eTThexqI1RD1lS2'\n",
    "\n",
    "\n",
    "auth = tweepy.OAuthHandler(consumer_key, consumer_secret)\n",
    "\n",
    "auth.set_access_token(access_token,access_secret)\n",
    "\n",
    "api = tweepy.API(auth)\n",
    "\n",
    "public_tweets = api.search('OpenAI')\n",
    "for tweet in public_tweets:\n",
    "    print(tweet.text)\n",
    "    analysis = TextBlob(tweet.text)\n",
    "    print(analysis.sentiment)"
   ]
  },
  {
   "cell_type": "code",
   "execution_count": null,
   "metadata": {
    "collapsed": true
   },
   "outputs": [],
   "source": []
  }
 ],
 "metadata": {
  "kernelspec": {
   "display_name": "Python 3",
   "language": "python",
   "name": "python3"
  },
  "language_info": {
   "codemirror_mode": {
    "name": "ipython",
    "version": 3
   },
   "file_extension": ".py",
   "mimetype": "text/x-python",
   "name": "python",
   "nbconvert_exporter": "python",
   "pygments_lexer": "ipython3",
   "version": "3.6.1"
  }
 },
 "nbformat": 4,
 "nbformat_minor": 2
}
